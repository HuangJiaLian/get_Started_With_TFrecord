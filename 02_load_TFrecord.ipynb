{
 "cells": [
  {
   "cell_type": "code",
   "execution_count": 1,
   "metadata": {},
   "outputs": [],
   "source": [
    "import tensorflow as tf"
   ]
  },
  {
   "cell_type": "code",
   "execution_count": 2,
   "metadata": {},
   "outputs": [],
   "source": [
    "#创建一个TFRecordReader类的实例\n",
    "reader = tf.TFRecordReader()"
   ]
  },
  {
   "cell_type": "code",
   "execution_count": 3,
   "metadata": {},
   "outputs": [],
   "source": [
    "#创建一个队列对输入文件列表进行维护，队列的知识放到了本章的稍后\n",
    "#函数原型string_input_producer(string_tensor,num_epochs,shuffle,seed,\n",
    "#                                  capacity,shared_name,name,cancel_op)\n",
    "filename_queue = tf.train.string_input_producer(\n",
    "                       [\"./TFRecord/MNIST_tfrecords\"])\n"
   ]
  },
  {
   "cell_type": "code",
   "execution_count": 4,
   "metadata": {},
   "outputs": [],
   "source": [
    "#使用TFRecordReader.read()函数从文件中读取一个样例，原型reader(self,queue,name)\n",
    "#也可使用read_up_to()函数一次性读取多个样例，\n",
    "#原型read_up_to(self,queue,num_records,name)\n",
    "_,serialized_example = reader.read(filename_queue)"
   ]
  },
  {
   "cell_type": "code",
   "execution_count": 5,
   "metadata": {},
   "outputs": [],
   "source": [
    "#使用parse_single_example()函数解析读取的样例。\n",
    "#原型parse_single_example(serialized,features,name,example_names)\n",
    "features = tf.parse_single_example(\n",
    "    serialized_example,\n",
    "    features={\n",
    "        #可以使用FixedLenFeature类对属性进行解析，\n",
    "        \"image_raw\":tf.FixedLenFeature([],tf.string),\n",
    "        \"pixels\":tf.FixedLenFeature([],tf.int64),\n",
    "        \"label\":tf.FixedLenFeature([],tf.int64)\n",
    "    })"
   ]
  },
  {
   "cell_type": "code",
   "execution_count": 6,
   "metadata": {},
   "outputs": [],
   "source": [
    "#decode_raw()函数用于将字符串解析成图像对应的像素数组\n",
    "#函数原型decode_raw(bytes,out_type,little_endian,name)\n",
    "images = tf.decode_raw(features[\"image_raw\"],tf.uint8)\n",
    "#使用cast()函数进行类型转换\n",
    "labels = tf.cast(features[\"label\"],tf.int32)\n",
    "pixels = tf.cast(features[\"pixels\"],tf.int32)"
   ]
  },
  {
   "cell_type": "code",
   "execution_count": 9,
   "metadata": {},
   "outputs": [
    {
     "name": "stdout",
     "output_type": "stream",
     "text": [
      "7\n",
      "3\n",
      "4\n",
      "6\n",
      "1\n",
      "8\n",
      "1\n",
      "0\n",
      "9\n",
      "8\n",
      "INFO:tensorflow:Error reported to Coordinator: <class 'tensorflow.python.framework.errors_impl.CancelledError'>, Enqueue operation was cancelled\n",
      "\t [[Node: input_producer/input_producer_EnqueueMany = QueueEnqueueManyV2[Tcomponents=[DT_STRING], timeout_ms=-1, _device=\"/job:localhost/replica:0/task:0/device:CPU:0\"](input_producer, input_producer/Identity/_9)]]\n"
     ]
    }
   ],
   "source": [
    "with tf.Session() as sess:\n",
    "    #启动多线程处理输入数据，多线程处理数据也会在本章的稍后予以介绍\n",
    "    coordinator = tf.train.Coordinator()\n",
    "    threads = tf.train.start_queue_runners(sess=sess, coord=coordinator)\n",
    "\n",
    "    for i in range(10):\n",
    "        image, label, pixel = sess.run([images, labels, pixels])\n",
    "        print(label)\n",
    "        #输出7 3 4 6 1 8 1 0 9 8"
   ]
  },
  {
   "cell_type": "code",
   "execution_count": null,
   "metadata": {},
   "outputs": [],
   "source": []
  }
 ],
 "metadata": {
  "kernelspec": {
   "display_name": "Python 3",
   "language": "python",
   "name": "python3"
  },
  "language_info": {
   "codemirror_mode": {
    "name": "ipython",
    "version": 3
   },
   "file_extension": ".py",
   "mimetype": "text/x-python",
   "name": "python",
   "nbconvert_exporter": "python",
   "pygments_lexer": "ipython3",
   "version": "3.6.3"
  }
 },
 "nbformat": 4,
 "nbformat_minor": 2
}
